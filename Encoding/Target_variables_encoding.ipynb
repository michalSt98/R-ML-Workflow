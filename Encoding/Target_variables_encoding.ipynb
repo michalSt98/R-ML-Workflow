{
 "cells": [
  {
   "cell_type": "markdown",
   "metadata": {},
   "source": [
    "# Praca domowa nr 2\n",
    "## Kodowanie zmiennych kategorycznych\n",
    "Michał Stawikowski"
   ]
  },
  {
   "cell_type": "code",
   "execution_count": 219,
   "metadata": {},
   "outputs": [],
   "source": [
    "import pandas as pd\n",
    "import numpy as np\n",
    "import sklearn\n",
    "from sklearn.preprocessing import StandardScaler\n",
    "from sklearn.svm import SVC\n",
    "from sklearn.pipeline import Pipeline\n",
    "from sklearn.model_selection import cross_validate,  train_test_split\n",
    "from sklearn.model_selection import GridSearchCV\n",
    "from sklearn.ensemble import RandomForestClassifier,  AdaBoostClassifier\n",
    "from sklearn.metrics import f1_score, accuracy_score, precision_score, recall_score, roc_auc_score\n",
    "from sklearn.linear_model import LogisticRegression\n",
    "from sklearn.gaussian_process import GaussianProcessClassifier\n",
    "import warnings\n",
    "warnings.simplefilter('ignore')\n",
    "df = pd.read_csv(\"CompassData.csv\")\n",
    "df = df.dropna()"
   ]
  },
  {
   "cell_type": "code",
   "execution_count": 228,
   "metadata": {},
   "outputs": [
    {
     "name": "stdout",
     "output_type": "stream",
     "text": [
      "<class 'pandas.core.frame.DataFrame'>\n",
      "RangeIndex: 9895 entries, 0 to 9894\n",
      "Data columns (total 15 columns):\n",
      "Unnamed: 0         9895 non-null int64\n",
      "custody_count      9895 non-null int64\n",
      "sex                9895 non-null object\n",
      "age                9895 non-null int64\n",
      "age_cat            9895 non-null object\n",
      "race               9895 non-null object\n",
      "juv_fel_count      9895 non-null int64\n",
      "juv_misd_count     9895 non-null int64\n",
      "juv_other_count    9895 non-null int64\n",
      "priors_count       9895 non-null int64\n",
      "c_charge_degree    9895 non-null object\n",
      "c_charge_desc      9895 non-null object\n",
      "bust_date          9895 non-null object\n",
      "jail_time          9895 non-null float64\n",
      "custody_sum        9895 non-null float64\n",
      "dtypes: float64(2), int64(7), object(6)\n",
      "memory usage: 1.1+ MB\n"
     ]
    }
   ],
   "source": [
    "# Przygotowujemy i dzielimy dane\n",
    "\n",
    "X = df.drop([\"is_recid\", \"first\", \"last\", \"dob\", \"c_jail_in\", \"c_jail_out\"], axis = 1)\n",
    "y = df.loc[:, 'is_recid']\n",
    "X_train, X_test, y_train, y_test = train_test_split(X,y,test_size =0.2, random_state=21)\n",
    "X_train = X_train.reset_index()\n",
    "X_test = X_test.reset_index()\n",
    "y_test = y_test.reset_index()\n",
    "y_train = y_train.reset_index()\n",
    "y_train = y_train.drop(\"index\",axis = 1)\n",
    "y_test = y_test.drop(\"index\", axis = 1)\n",
    "y = y.reset_index()\n",
    "y = y.drop(\"index\", axis = 1)\n",
    "X = X.reset_index()\n",
    "X = X.drop(\"index\", axis = 1)\n",
    "X.info()"
   ]
  },
  {
   "cell_type": "markdown",
   "metadata": {},
   "source": [
    "Przygotowaliśmy i wczytaliśmy nasze dane z programu `Compass`, jak widać w ramce danych występuje kilka typów `object`, które nie nadają się do algorytmów klasyfikacji w `sklearn`. W celu umożliwienia stworzenia modelu możemy albo porzucić zmienne nienumeryczne albo spróbować je zakodować. Istnieją różne sposoby kodowania zmiennych kategorycznych. My użyjemy dwóch reprezentanów 'klasycznego kodowania':\n",
    "\n",
    "* `OneHot Encoding`\n",
    "* `Hashing Encoding`\n",
    "\n",
    "oraz dwóch reprezentantów 'Bayesian Encoders', czyli:\n",
    "\n",
    "* `Target Encoding`\n",
    "* `LeaveOneOut Encoding`\n",
    "\n",
    "Pierwsza grupa działa raczej opierając się na prostych zasadach przyporzodkowując unikalne wartości numeryczne kategorycznym zmiennym. Druga grupa używa informacji ze zmiennej zależnej i jest użyteczna w przypadku, gdy nasze zmienne posiadają zbyt dużą liczbę unikalnych poziomów. Co będzie przydatne w naszym przypadku, co widać na poniższej tabelce. Wiele kolumn ma trzycyfrowe liczby pozimów, co może być problematyczne przy obliczeniach, a także przy tworzeniu sztucznych zmiennych przy użyciu kodowania `One Hote`, gdyż powstanie wiele dodatkowych kolumn. Kodowanie `Target` powinno poradzić sobie lepiej.\n",
    "\n",
    "Niestety klasyfikatory z pakietu `sklearn` nie radzą sobie z żadnymi zmiennymi kategorycznymi, więc będziemy musieli wszytskie kolumny zawierające takie wartości ręcznie poddać kodowaniu. "
   ]
  },
  {
   "cell_type": "code",
   "execution_count": 227,
   "metadata": {},
   "outputs": [
    {
     "data": {
      "text/plain": [
       "Unnamed: 0         9895\n",
       "custody_count        12\n",
       "sex                   2\n",
       "age                  65\n",
       "age_cat               3\n",
       "race                  6\n",
       "juv_fel_count        12\n",
       "juv_misd_count       11\n",
       "juv_other_count      11\n",
       "priors_count         39\n",
       "c_charge_degree      12\n",
       "c_charge_desc       489\n",
       "bust_date           981\n",
       "jail_time           391\n",
       "custody_sum         870\n",
       "dtype: int64"
      ]
     },
     "execution_count": 227,
     "metadata": {},
     "output_type": "execute_result"
    }
   ],
   "source": [
    "X.nunique()"
   ]
  },
  {
   "cell_type": "markdown",
   "metadata": {},
   "source": [
    "#  Transformacja danych"
   ]
  },
  {
   "cell_type": "code",
   "execution_count": 192,
   "metadata": {},
   "outputs": [],
   "source": [
    "# Tworzymy dwa encodery do porówynania\n",
    "np.random.seed(42)\n",
    "enc_Target = ce.TargetEncoder().fit(X_train, y_train)\n",
    "enc_OneHot = ce.OneHotEncoder().fit(X_train, y_train)\n",
    "enc_LeaveOneOut = ce.LeaveOneOutEncoder().fit(X_train, y_train)\n",
    "enc_Hashing = ce.HashingEncoder().fit(X_train, y_train)\n",
    "\n",
    "# Za ich pomocą transformujemy dane\n",
    "\n",
    "training_Target = enc_Target.transform(X_train, y_train)\n",
    "testing_Target = enc_Target.transform(X_test)\n",
    "\n",
    "training_OneHot = enc_OneHot.transform(X_train)\n",
    "testing_OneHot = enc_OneHot.transform(X_test)\n",
    "\n",
    "training_LeaveOneOut = enc_LeaveOneOut.transform(X_train, y_train)\n",
    "testing_LeaveOneOut = enc_LeaveOneOut.transform(X_test)\n",
    "\n",
    "training_Hashing = enc_Hashing.transform(X_train)\n",
    "testing_Hashing = enc_Hashing.transform(X_test)\n"
   ]
  },
  {
   "cell_type": "markdown",
   "metadata": {},
   "source": [
    "Stworzyliśmy kodowania i przetransformowaliśmy dane. Jak widać na poniższysz tabelach, kodowania z drugiej grupy pewne wartości\n",
    "numeryczne opisująca zależności jakie występowały między zmienną kategoryczną, a celem naszego przywidywania. Kodowanie `OneHot` dodało bardzo dużą ilość nowych kolumn kodujących zmienne kategoryczne, co prawdopodobnie nie wpłynie dobrze na skuteczność klasyfikacji."
   ]
  },
  {
   "cell_type": "code",
   "execution_count": 123,
   "metadata": {},
   "outputs": [
    {
     "data": {
      "text/html": [
       "<div>\n",
       "<style scoped>\n",
       "    .dataframe tbody tr th:only-of-type {\n",
       "        vertical-align: middle;\n",
       "    }\n",
       "\n",
       "    .dataframe tbody tr th {\n",
       "        vertical-align: top;\n",
       "    }\n",
       "\n",
       "    .dataframe thead th {\n",
       "        text-align: right;\n",
       "    }\n",
       "</style>\n",
       "<table border=\"1\" class=\"dataframe\">\n",
       "  <thead>\n",
       "    <tr style=\"text-align: right;\">\n",
       "      <th></th>\n",
       "      <th>Unnamed: 0</th>\n",
       "      <th>custody_count</th>\n",
       "      <th>sex</th>\n",
       "      <th>age</th>\n",
       "      <th>age_cat</th>\n",
       "      <th>race</th>\n",
       "      <th>juv_fel_count</th>\n",
       "      <th>juv_misd_count</th>\n",
       "      <th>juv_other_count</th>\n",
       "      <th>priors_count</th>\n",
       "      <th>c_charge_degree</th>\n",
       "      <th>c_charge_desc</th>\n",
       "      <th>bust_date</th>\n",
       "      <th>jail_time</th>\n",
       "      <th>custody_sum</th>\n",
       "    </tr>\n",
       "  </thead>\n",
       "  <tbody>\n",
       "    <tr>\n",
       "      <th>0</th>\n",
       "      <td>1</td>\n",
       "      <td>1</td>\n",
       "      <td>Female</td>\n",
       "      <td>23</td>\n",
       "      <td>Less than 25</td>\n",
       "      <td>African-American</td>\n",
       "      <td>0</td>\n",
       "      <td>0</td>\n",
       "      <td>0</td>\n",
       "      <td>0</td>\n",
       "      <td>(F3)</td>\n",
       "      <td>Driving While License Revoked</td>\n",
       "      <td>2013-04-23</td>\n",
       "      <td>1.0</td>\n",
       "      <td>23.0</td>\n",
       "    </tr>\n",
       "    <tr>\n",
       "      <th>1</th>\n",
       "      <td>2</td>\n",
       "      <td>1</td>\n",
       "      <td>Female</td>\n",
       "      <td>21</td>\n",
       "      <td>Less than 25</td>\n",
       "      <td>Caucasian</td>\n",
       "      <td>0</td>\n",
       "      <td>0</td>\n",
       "      <td>0</td>\n",
       "      <td>0</td>\n",
       "      <td>(F2)</td>\n",
       "      <td>Burglary Unoccupied Dwelling</td>\n",
       "      <td>2013-11-03</td>\n",
       "      <td>2.0</td>\n",
       "      <td>2.0</td>\n",
       "    </tr>\n",
       "    <tr>\n",
       "      <th>2</th>\n",
       "      <td>3</td>\n",
       "      <td>2</td>\n",
       "      <td>Male</td>\n",
       "      <td>27</td>\n",
       "      <td>25 - 45</td>\n",
       "      <td>Hispanic</td>\n",
       "      <td>0</td>\n",
       "      <td>0</td>\n",
       "      <td>1</td>\n",
       "      <td>18</td>\n",
       "      <td>(F3)</td>\n",
       "      <td>Grand Theft in the 3rd Degree</td>\n",
       "      <td>2013-11-20</td>\n",
       "      <td>55.0</td>\n",
       "      <td>565.0</td>\n",
       "    </tr>\n",
       "    <tr>\n",
       "      <th>3</th>\n",
       "      <td>5</td>\n",
       "      <td>1</td>\n",
       "      <td>Male</td>\n",
       "      <td>41</td>\n",
       "      <td>25 - 45</td>\n",
       "      <td>Caucasian</td>\n",
       "      <td>0</td>\n",
       "      <td>0</td>\n",
       "      <td>0</td>\n",
       "      <td>11</td>\n",
       "      <td>(F3)</td>\n",
       "      <td>Felony Petit Theft</td>\n",
       "      <td>2014-11-24</td>\n",
       "      <td>118.0</td>\n",
       "      <td>8.0</td>\n",
       "    </tr>\n",
       "    <tr>\n",
       "      <th>4</th>\n",
       "      <td>6</td>\n",
       "      <td>1</td>\n",
       "      <td>Male</td>\n",
       "      <td>37</td>\n",
       "      <td>25 - 45</td>\n",
       "      <td>African-American</td>\n",
       "      <td>0</td>\n",
       "      <td>0</td>\n",
       "      <td>0</td>\n",
       "      <td>2</td>\n",
       "      <td>(M1)</td>\n",
       "      <td>Battery</td>\n",
       "      <td>2013-12-24</td>\n",
       "      <td>0.0</td>\n",
       "      <td>32.0</td>\n",
       "    </tr>\n",
       "  </tbody>\n",
       "</table>\n",
       "</div>"
      ],
      "text/plain": [
       "   Unnamed: 0  custody_count     sex  age       age_cat              race  \\\n",
       "0           1              1  Female   23  Less than 25  African-American   \n",
       "1           2              1  Female   21  Less than 25         Caucasian   \n",
       "2           3              2    Male   27       25 - 45          Hispanic   \n",
       "3           5              1    Male   41       25 - 45         Caucasian   \n",
       "4           6              1    Male   37       25 - 45  African-American   \n",
       "\n",
       "   juv_fel_count  juv_misd_count  juv_other_count  priors_count  \\\n",
       "0              0               0                0             0   \n",
       "1              0               0                0             0   \n",
       "2              0               0                1            18   \n",
       "3              0               0                0            11   \n",
       "4              0               0                0             2   \n",
       "\n",
       "  c_charge_degree                  c_charge_desc   bust_date  jail_time  \\\n",
       "0            (F3)  Driving While License Revoked  2013-04-23        1.0   \n",
       "1            (F2)   Burglary Unoccupied Dwelling  2013-11-03        2.0   \n",
       "2            (F3)  Grand Theft in the 3rd Degree  2013-11-20       55.0   \n",
       "3            (F3)             Felony Petit Theft  2014-11-24      118.0   \n",
       "4            (M1)                        Battery  2013-12-24        0.0   \n",
       "\n",
       "   custody_sum  \n",
       "0         23.0  \n",
       "1          2.0  \n",
       "2        565.0  \n",
       "3          8.0  \n",
       "4         32.0  "
      ]
     },
     "execution_count": 123,
     "metadata": {},
     "output_type": "execute_result"
    }
   ],
   "source": [
    "# Porównanie wyników encodowania\n",
    "X.head()"
   ]
  },
  {
   "cell_type": "code",
   "execution_count": 124,
   "metadata": {},
   "outputs": [
    {
     "data": {
      "text/html": [
       "<div>\n",
       "<style scoped>\n",
       "    .dataframe tbody tr th:only-of-type {\n",
       "        vertical-align: middle;\n",
       "    }\n",
       "\n",
       "    .dataframe tbody tr th {\n",
       "        vertical-align: top;\n",
       "    }\n",
       "\n",
       "    .dataframe thead th {\n",
       "        text-align: right;\n",
       "    }\n",
       "</style>\n",
       "<table border=\"1\" class=\"dataframe\">\n",
       "  <thead>\n",
       "    <tr style=\"text-align: right;\">\n",
       "      <th></th>\n",
       "      <th>index</th>\n",
       "      <th>Unnamed: 0</th>\n",
       "      <th>custody_count</th>\n",
       "      <th>sex</th>\n",
       "      <th>age</th>\n",
       "      <th>age_cat</th>\n",
       "      <th>race</th>\n",
       "      <th>juv_fel_count</th>\n",
       "      <th>juv_misd_count</th>\n",
       "      <th>juv_other_count</th>\n",
       "      <th>priors_count</th>\n",
       "      <th>c_charge_degree</th>\n",
       "      <th>c_charge_desc</th>\n",
       "      <th>bust_date</th>\n",
       "      <th>jail_time</th>\n",
       "      <th>custody_sum</th>\n",
       "    </tr>\n",
       "  </thead>\n",
       "  <tbody>\n",
       "    <tr>\n",
       "      <th>0</th>\n",
       "      <td>2620</td>\n",
       "      <td>3571</td>\n",
       "      <td>2</td>\n",
       "      <td>0.365072</td>\n",
       "      <td>19</td>\n",
       "      <td>0.427804</td>\n",
       "      <td>0.401425</td>\n",
       "      <td>0</td>\n",
       "      <td>0</td>\n",
       "      <td>0</td>\n",
       "      <td>0</td>\n",
       "      <td>0.375116</td>\n",
       "      <td>0.325048</td>\n",
       "      <td>0.374970</td>\n",
       "      <td>5.0</td>\n",
       "      <td>249.0</td>\n",
       "    </tr>\n",
       "    <tr>\n",
       "      <th>1</th>\n",
       "      <td>4779</td>\n",
       "      <td>6529</td>\n",
       "      <td>4</td>\n",
       "      <td>0.252126</td>\n",
       "      <td>34</td>\n",
       "      <td>0.346495</td>\n",
       "      <td>0.293271</td>\n",
       "      <td>0</td>\n",
       "      <td>0</td>\n",
       "      <td>0</td>\n",
       "      <td>0</td>\n",
       "      <td>0.362039</td>\n",
       "      <td>0.415094</td>\n",
       "      <td>0.333333</td>\n",
       "      <td>2.0</td>\n",
       "      <td>71.0</td>\n",
       "    </tr>\n",
       "    <tr>\n",
       "      <th>2</th>\n",
       "      <td>3133</td>\n",
       "      <td>4318</td>\n",
       "      <td>1</td>\n",
       "      <td>0.365072</td>\n",
       "      <td>34</td>\n",
       "      <td>0.346495</td>\n",
       "      <td>0.401425</td>\n",
       "      <td>0</td>\n",
       "      <td>0</td>\n",
       "      <td>0</td>\n",
       "      <td>0</td>\n",
       "      <td>0.375116</td>\n",
       "      <td>0.200000</td>\n",
       "      <td>0.250083</td>\n",
       "      <td>2.0</td>\n",
       "      <td>2.0</td>\n",
       "    </tr>\n",
       "    <tr>\n",
       "      <th>3</th>\n",
       "      <td>7748</td>\n",
       "      <td>10472</td>\n",
       "      <td>1</td>\n",
       "      <td>0.365072</td>\n",
       "      <td>36</td>\n",
       "      <td>0.346495</td>\n",
       "      <td>0.401425</td>\n",
       "      <td>0</td>\n",
       "      <td>0</td>\n",
       "      <td>1</td>\n",
       "      <td>16</td>\n",
       "      <td>0.375116</td>\n",
       "      <td>0.111188</td>\n",
       "      <td>0.090920</td>\n",
       "      <td>1.0</td>\n",
       "      <td>1.0</td>\n",
       "    </tr>\n",
       "    <tr>\n",
       "      <th>4</th>\n",
       "      <td>7412</td>\n",
       "      <td>10039</td>\n",
       "      <td>1</td>\n",
       "      <td>0.252126</td>\n",
       "      <td>27</td>\n",
       "      <td>0.346495</td>\n",
       "      <td>0.401425</td>\n",
       "      <td>0</td>\n",
       "      <td>0</td>\n",
       "      <td>0</td>\n",
       "      <td>0</td>\n",
       "      <td>0.362039</td>\n",
       "      <td>0.444444</td>\n",
       "      <td>0.533333</td>\n",
       "      <td>1.0</td>\n",
       "      <td>1.0</td>\n",
       "    </tr>\n",
       "  </tbody>\n",
       "</table>\n",
       "</div>"
      ],
      "text/plain": [
       "   index  Unnamed: 0  custody_count       sex  age   age_cat      race  \\\n",
       "0   2620        3571              2  0.365072   19  0.427804  0.401425   \n",
       "1   4779        6529              4  0.252126   34  0.346495  0.293271   \n",
       "2   3133        4318              1  0.365072   34  0.346495  0.401425   \n",
       "3   7748       10472              1  0.365072   36  0.346495  0.401425   \n",
       "4   7412       10039              1  0.252126   27  0.346495  0.401425   \n",
       "\n",
       "   juv_fel_count  juv_misd_count  juv_other_count  priors_count  \\\n",
       "0              0               0                0             0   \n",
       "1              0               0                0             0   \n",
       "2              0               0                0             0   \n",
       "3              0               0                1            16   \n",
       "4              0               0                0             0   \n",
       "\n",
       "   c_charge_degree  c_charge_desc  bust_date  jail_time  custody_sum  \n",
       "0         0.375116       0.325048   0.374970        5.0        249.0  \n",
       "1         0.362039       0.415094   0.333333        2.0         71.0  \n",
       "2         0.375116       0.200000   0.250083        2.0          2.0  \n",
       "3         0.375116       0.111188   0.090920        1.0          1.0  \n",
       "4         0.362039       0.444444   0.533333        1.0          1.0  "
      ]
     },
     "execution_count": 124,
     "metadata": {},
     "output_type": "execute_result"
    }
   ],
   "source": [
    "training_Target.head()"
   ]
  },
  {
   "cell_type": "code",
   "execution_count": 125,
   "metadata": {},
   "outputs": [
    {
     "data": {
      "text/html": [
       "<div>\n",
       "<style scoped>\n",
       "    .dataframe tbody tr th:only-of-type {\n",
       "        vertical-align: middle;\n",
       "    }\n",
       "\n",
       "    .dataframe tbody tr th {\n",
       "        vertical-align: top;\n",
       "    }\n",
       "\n",
       "    .dataframe thead th {\n",
       "        text-align: right;\n",
       "    }\n",
       "</style>\n",
       "<table border=\"1\" class=\"dataframe\">\n",
       "  <thead>\n",
       "    <tr style=\"text-align: right;\">\n",
       "      <th></th>\n",
       "      <th>sex_1</th>\n",
       "      <th>sex_2</th>\n",
       "      <th>sex_-1</th>\n",
       "      <th>age_cat_1</th>\n",
       "      <th>age_cat_2</th>\n",
       "      <th>age_cat_3</th>\n",
       "      <th>age_cat_-1</th>\n",
       "      <th>race_1</th>\n",
       "      <th>race_2</th>\n",
       "      <th>race_3</th>\n",
       "      <th>...</th>\n",
       "      <th>index</th>\n",
       "      <th>Unnamed: 0</th>\n",
       "      <th>custody_count</th>\n",
       "      <th>age</th>\n",
       "      <th>juv_fel_count</th>\n",
       "      <th>juv_misd_count</th>\n",
       "      <th>juv_other_count</th>\n",
       "      <th>priors_count</th>\n",
       "      <th>jail_time</th>\n",
       "      <th>custody_sum</th>\n",
       "    </tr>\n",
       "  </thead>\n",
       "  <tbody>\n",
       "    <tr>\n",
       "      <th>0</th>\n",
       "      <td>1</td>\n",
       "      <td>0</td>\n",
       "      <td>0</td>\n",
       "      <td>1</td>\n",
       "      <td>0</td>\n",
       "      <td>0</td>\n",
       "      <td>0</td>\n",
       "      <td>1</td>\n",
       "      <td>0</td>\n",
       "      <td>0</td>\n",
       "      <td>...</td>\n",
       "      <td>2620</td>\n",
       "      <td>3571</td>\n",
       "      <td>2</td>\n",
       "      <td>19</td>\n",
       "      <td>0</td>\n",
       "      <td>0</td>\n",
       "      <td>0</td>\n",
       "      <td>0</td>\n",
       "      <td>5.0</td>\n",
       "      <td>249.0</td>\n",
       "    </tr>\n",
       "    <tr>\n",
       "      <th>1</th>\n",
       "      <td>0</td>\n",
       "      <td>1</td>\n",
       "      <td>0</td>\n",
       "      <td>0</td>\n",
       "      <td>1</td>\n",
       "      <td>0</td>\n",
       "      <td>0</td>\n",
       "      <td>0</td>\n",
       "      <td>1</td>\n",
       "      <td>0</td>\n",
       "      <td>...</td>\n",
       "      <td>4779</td>\n",
       "      <td>6529</td>\n",
       "      <td>4</td>\n",
       "      <td>34</td>\n",
       "      <td>0</td>\n",
       "      <td>0</td>\n",
       "      <td>0</td>\n",
       "      <td>0</td>\n",
       "      <td>2.0</td>\n",
       "      <td>71.0</td>\n",
       "    </tr>\n",
       "    <tr>\n",
       "      <th>2</th>\n",
       "      <td>1</td>\n",
       "      <td>0</td>\n",
       "      <td>0</td>\n",
       "      <td>0</td>\n",
       "      <td>1</td>\n",
       "      <td>0</td>\n",
       "      <td>0</td>\n",
       "      <td>1</td>\n",
       "      <td>0</td>\n",
       "      <td>0</td>\n",
       "      <td>...</td>\n",
       "      <td>3133</td>\n",
       "      <td>4318</td>\n",
       "      <td>1</td>\n",
       "      <td>34</td>\n",
       "      <td>0</td>\n",
       "      <td>0</td>\n",
       "      <td>0</td>\n",
       "      <td>0</td>\n",
       "      <td>2.0</td>\n",
       "      <td>2.0</td>\n",
       "    </tr>\n",
       "    <tr>\n",
       "      <th>3</th>\n",
       "      <td>1</td>\n",
       "      <td>0</td>\n",
       "      <td>0</td>\n",
       "      <td>0</td>\n",
       "      <td>1</td>\n",
       "      <td>0</td>\n",
       "      <td>0</td>\n",
       "      <td>1</td>\n",
       "      <td>0</td>\n",
       "      <td>0</td>\n",
       "      <td>...</td>\n",
       "      <td>7748</td>\n",
       "      <td>10472</td>\n",
       "      <td>1</td>\n",
       "      <td>36</td>\n",
       "      <td>0</td>\n",
       "      <td>0</td>\n",
       "      <td>1</td>\n",
       "      <td>16</td>\n",
       "      <td>1.0</td>\n",
       "      <td>1.0</td>\n",
       "    </tr>\n",
       "    <tr>\n",
       "      <th>4</th>\n",
       "      <td>0</td>\n",
       "      <td>1</td>\n",
       "      <td>0</td>\n",
       "      <td>0</td>\n",
       "      <td>1</td>\n",
       "      <td>0</td>\n",
       "      <td>0</td>\n",
       "      <td>1</td>\n",
       "      <td>0</td>\n",
       "      <td>0</td>\n",
       "      <td>...</td>\n",
       "      <td>7412</td>\n",
       "      <td>10039</td>\n",
       "      <td>1</td>\n",
       "      <td>27</td>\n",
       "      <td>0</td>\n",
       "      <td>0</td>\n",
       "      <td>0</td>\n",
       "      <td>0</td>\n",
       "      <td>1.0</td>\n",
       "      <td>1.0</td>\n",
       "    </tr>\n",
       "  </tbody>\n",
       "</table>\n",
       "<p>5 rows × 1397 columns</p>\n",
       "</div>"
      ],
      "text/plain": [
       "   sex_1  sex_2  sex_-1  age_cat_1  age_cat_2  age_cat_3  age_cat_-1  race_1  \\\n",
       "0      1      0       0          1          0          0           0       1   \n",
       "1      0      1       0          0          1          0           0       0   \n",
       "2      1      0       0          0          1          0           0       1   \n",
       "3      1      0       0          0          1          0           0       1   \n",
       "4      0      1       0          0          1          0           0       1   \n",
       "\n",
       "   race_2  race_3     ...       index  Unnamed: 0  custody_count  age  \\\n",
       "0       0       0     ...        2620        3571              2   19   \n",
       "1       1       0     ...        4779        6529              4   34   \n",
       "2       0       0     ...        3133        4318              1   34   \n",
       "3       0       0     ...        7748       10472              1   36   \n",
       "4       0       0     ...        7412       10039              1   27   \n",
       "\n",
       "   juv_fel_count  juv_misd_count  juv_other_count  priors_count  jail_time  \\\n",
       "0              0               0                0             0        5.0   \n",
       "1              0               0                0             0        2.0   \n",
       "2              0               0                0             0        2.0   \n",
       "3              0               0                1            16        1.0   \n",
       "4              0               0                0             0        1.0   \n",
       "\n",
       "   custody_sum  \n",
       "0        249.0  \n",
       "1         71.0  \n",
       "2          2.0  \n",
       "3          1.0  \n",
       "4          1.0  \n",
       "\n",
       "[5 rows x 1397 columns]"
      ]
     },
     "execution_count": 125,
     "metadata": {},
     "output_type": "execute_result"
    }
   ],
   "source": [
    "training_OneHot.head()"
   ]
  },
  {
   "cell_type": "code",
   "execution_count": 134,
   "metadata": {},
   "outputs": [
    {
     "data": {
      "text/html": [
       "<div>\n",
       "<style scoped>\n",
       "    .dataframe tbody tr th:only-of-type {\n",
       "        vertical-align: middle;\n",
       "    }\n",
       "\n",
       "    .dataframe tbody tr th {\n",
       "        vertical-align: top;\n",
       "    }\n",
       "\n",
       "    .dataframe thead th {\n",
       "        text-align: right;\n",
       "    }\n",
       "</style>\n",
       "<table border=\"1\" class=\"dataframe\">\n",
       "  <thead>\n",
       "    <tr style=\"text-align: right;\">\n",
       "      <th></th>\n",
       "      <th>index</th>\n",
       "      <th>Unnamed: 0</th>\n",
       "      <th>custody_count</th>\n",
       "      <th>sex</th>\n",
       "      <th>age</th>\n",
       "      <th>age_cat</th>\n",
       "      <th>race</th>\n",
       "      <th>juv_fel_count</th>\n",
       "      <th>juv_misd_count</th>\n",
       "      <th>juv_other_count</th>\n",
       "      <th>priors_count</th>\n",
       "      <th>c_charge_degree</th>\n",
       "      <th>c_charge_desc</th>\n",
       "      <th>bust_date</th>\n",
       "      <th>jail_time</th>\n",
       "      <th>custody_sum</th>\n",
       "    </tr>\n",
       "  </thead>\n",
       "  <tbody>\n",
       "    <tr>\n",
       "      <th>0</th>\n",
       "      <td>2620</td>\n",
       "      <td>3571</td>\n",
       "      <td>2</td>\n",
       "      <td>0.365130</td>\n",
       "      <td>19</td>\n",
       "      <td>0.428060</td>\n",
       "      <td>0.401527</td>\n",
       "      <td>0</td>\n",
       "      <td>0</td>\n",
       "      <td>0</td>\n",
       "      <td>0</td>\n",
       "      <td>0.375204</td>\n",
       "      <td>0.325670</td>\n",
       "      <td>0.428571</td>\n",
       "      <td>5.0</td>\n",
       "      <td>249.0</td>\n",
       "    </tr>\n",
       "    <tr>\n",
       "      <th>1</th>\n",
       "      <td>4779</td>\n",
       "      <td>6529</td>\n",
       "      <td>4</td>\n",
       "      <td>0.251672</td>\n",
       "      <td>34</td>\n",
       "      <td>0.346350</td>\n",
       "      <td>0.293017</td>\n",
       "      <td>0</td>\n",
       "      <td>0</td>\n",
       "      <td>0</td>\n",
       "      <td>0</td>\n",
       "      <td>0.360915</td>\n",
       "      <td>0.403846</td>\n",
       "      <td>0.285714</td>\n",
       "      <td>2.0</td>\n",
       "      <td>71.0</td>\n",
       "    </tr>\n",
       "    <tr>\n",
       "      <th>2</th>\n",
       "      <td>3133</td>\n",
       "      <td>4318</td>\n",
       "      <td>1</td>\n",
       "      <td>0.365130</td>\n",
       "      <td>34</td>\n",
       "      <td>0.346572</td>\n",
       "      <td>0.401527</td>\n",
       "      <td>0</td>\n",
       "      <td>0</td>\n",
       "      <td>0</td>\n",
       "      <td>0</td>\n",
       "      <td>0.375204</td>\n",
       "      <td>0.208333</td>\n",
       "      <td>0.285714</td>\n",
       "      <td>2.0</td>\n",
       "      <td>2.0</td>\n",
       "    </tr>\n",
       "    <tr>\n",
       "      <th>3</th>\n",
       "      <td>7748</td>\n",
       "      <td>10472</td>\n",
       "      <td>1</td>\n",
       "      <td>0.365130</td>\n",
       "      <td>36</td>\n",
       "      <td>0.346572</td>\n",
       "      <td>0.401527</td>\n",
       "      <td>0</td>\n",
       "      <td>0</td>\n",
       "      <td>1</td>\n",
       "      <td>16</td>\n",
       "      <td>0.375204</td>\n",
       "      <td>0.125000</td>\n",
       "      <td>0.100000</td>\n",
       "      <td>1.0</td>\n",
       "      <td>1.0</td>\n",
       "    </tr>\n",
       "    <tr>\n",
       "      <th>4</th>\n",
       "      <td>7412</td>\n",
       "      <td>10039</td>\n",
       "      <td>1</td>\n",
       "      <td>0.252280</td>\n",
       "      <td>27</td>\n",
       "      <td>0.346572</td>\n",
       "      <td>0.401527</td>\n",
       "      <td>0</td>\n",
       "      <td>0</td>\n",
       "      <td>0</td>\n",
       "      <td>0</td>\n",
       "      <td>0.362676</td>\n",
       "      <td>0.457143</td>\n",
       "      <td>0.571429</td>\n",
       "      <td>1.0</td>\n",
       "      <td>1.0</td>\n",
       "    </tr>\n",
       "  </tbody>\n",
       "</table>\n",
       "</div>"
      ],
      "text/plain": [
       "   index  Unnamed: 0  custody_count       sex  age   age_cat      race  \\\n",
       "0   2620        3571              2  0.365130   19  0.428060  0.401527   \n",
       "1   4779        6529              4  0.251672   34  0.346350  0.293017   \n",
       "2   3133        4318              1  0.365130   34  0.346572  0.401527   \n",
       "3   7748       10472              1  0.365130   36  0.346572  0.401527   \n",
       "4   7412       10039              1  0.252280   27  0.346572  0.401527   \n",
       "\n",
       "   juv_fel_count  juv_misd_count  juv_other_count  priors_count  \\\n",
       "0              0               0                0             0   \n",
       "1              0               0                0             0   \n",
       "2              0               0                0             0   \n",
       "3              0               0                1            16   \n",
       "4              0               0                0             0   \n",
       "\n",
       "   c_charge_degree  c_charge_desc  bust_date  jail_time  custody_sum  \n",
       "0         0.375204       0.325670   0.428571        5.0        249.0  \n",
       "1         0.360915       0.403846   0.285714        2.0         71.0  \n",
       "2         0.375204       0.208333   0.285714        2.0          2.0  \n",
       "3         0.375204       0.125000   0.100000        1.0          1.0  \n",
       "4         0.362676       0.457143   0.571429        1.0          1.0  "
      ]
     },
     "execution_count": 134,
     "metadata": {},
     "output_type": "execute_result"
    }
   ],
   "source": [
    "training_LeaveOneOut.head()"
   ]
  },
  {
   "cell_type": "markdown",
   "metadata": {},
   "source": [
    "# Testowanie na klasyfikatorach"
   ]
  },
  {
   "cell_type": "markdown",
   "metadata": {},
   "source": [
    "W następnym kroku postaramy się sprawdzić jak kodowanie może wpłynąć na skuteczność klasyfikatora. W celu uniknięcia overfittingu przy kodowaniu zmiennych na początku nie użyjemy kroswalidacji do oceniania wyników klasyfikacji. Tak prezentują się wyniki."
   ]
  },
  {
   "cell_type": "markdown",
   "metadata": {},
   "source": [
    "`Target Encoding`"
   ]
  },
  {
   "cell_type": "code",
   "execution_count": 194,
   "metadata": {},
   "outputs": [
    {
     "data": {
      "text/plain": [
       "0.7170288024254674"
      ]
     },
     "execution_count": 194,
     "metadata": {},
     "output_type": "execute_result"
    }
   ],
   "source": [
    "\n",
    "np.random.seed(42)\n",
    "\n",
    "classifier = RandomForestClassifier(n_estimators=500, max_depth=2, max_features=3)\n",
    "\n",
    "classifier = classifier.fit(training_Target, y_train)\n",
    "\n",
    "classifier.score(testing_Target, y_test)\n",
    "\n",
    "        "
   ]
  },
  {
   "cell_type": "markdown",
   "metadata": {},
   "source": [
    "`OneHot Encoding`"
   ]
  },
  {
   "cell_type": "code",
   "execution_count": 195,
   "metadata": {},
   "outputs": [
    {
     "data": {
      "text/plain": [
       "0.6437594744820616"
      ]
     },
     "execution_count": 195,
     "metadata": {},
     "output_type": "execute_result"
    }
   ],
   "source": [
    "\n",
    "np.random.seed(42)\n",
    "classifier = RandomForestClassifier(n_estimators=500, max_depth=2, max_features=3)\n",
    "\n",
    "classifier = classifier.fit(training_OneHot, y_train)\n",
    "\n",
    "classifier.score(testing_OneHot, y_test)"
   ]
  },
  {
   "cell_type": "markdown",
   "metadata": {},
   "source": [
    "`LeaveOneOut Encoding`"
   ]
  },
  {
   "cell_type": "code",
   "execution_count": 196,
   "metadata": {},
   "outputs": [
    {
     "data": {
      "text/plain": [
       "0.6432541687721072"
      ]
     },
     "execution_count": 196,
     "metadata": {},
     "output_type": "execute_result"
    }
   ],
   "source": [
    "np.random.seed(42)\n",
    "classifier = RandomForestClassifier(n_estimators=500, max_depth=2, max_features=3)\n",
    "\n",
    "classifier = classifier.fit(training_LeaveOneOut, y_train)\n",
    "\n",
    "classifier.score(testing_LeaveOneOut, y_test)"
   ]
  },
  {
   "cell_type": "markdown",
   "metadata": {},
   "source": [
    "`Hashing encoding`"
   ]
  },
  {
   "cell_type": "code",
   "execution_count": 197,
   "metadata": {},
   "outputs": [
    {
     "data": {
      "text/plain": [
       "0.7124810510358767"
      ]
     },
     "execution_count": 197,
     "metadata": {},
     "output_type": "execute_result"
    }
   ],
   "source": [
    "np.random.seed(42)\n",
    "classifier = RandomForestClassifier(n_estimators=500, max_depth=2, max_features=3)\n",
    "\n",
    "classifier = classifier.fit(training_Hashing, y_train)\n",
    "\n",
    "classifier.score(testing_Hashing, y_test)"
   ]
  },
  {
   "cell_type": "markdown",
   "metadata": {},
   "source": [
    "`Usunięcie zmiennych kategorycznych`"
   ]
  },
  {
   "cell_type": "code",
   "execution_count": 198,
   "metadata": {},
   "outputs": [],
   "source": [
    "X_train_without = X_train.drop([\"sex\",\"age_cat\",\"race\",\"c_charge_degree\", \"c_charge_desc\",\"bust_date\"], axis = 1)\n",
    "X_test_without = X_test.drop([\"sex\",\"age_cat\",\"race\",\"c_charge_degree\", \"c_charge_desc\",\"bust_date\"], axis = 1)"
   ]
  },
  {
   "cell_type": "code",
   "execution_count": 222,
   "metadata": {},
   "outputs": [
    {
     "data": {
      "text/plain": [
       "0.7483577564426478"
      ]
     },
     "execution_count": 222,
     "metadata": {},
     "output_type": "execute_result"
    }
   ],
   "source": [
    "np.random.seed(4)\n",
    "classifier = RandomForestClassifier(n_estimators=500, max_depth=2, max_features=3)\n",
    "\n",
    "classifier = classifier.fit(X_train_without, y_train)\n",
    "\n",
    "classifier.score(X_test_without, y_test)"
   ]
  },
  {
   "cell_type": "markdown",
   "metadata": {},
   "source": [
    "Wyniki są dość zaskakujące, ponieważ najlepszy wyniki uzyskała ramka danych z usuniętymi kolumnami. W celu lepszej analizy skuteczność klasyfiaktowrów będziemy mierzyć przy pomocy kroswalidacji. Może to wpłynąć na przeuczenie się w przypadku dopasowywanie kodowania na całej ramce, a nie tylko na częśći uczącej. Dość dobrze poradziło sobie kodowanie `Target`, jednak tego typu kodowania mogą być kosztowne obliczeniowo."
   ]
  },
  {
   "cell_type": "markdown",
   "metadata": {},
   "source": [
    "# Testowanie przy użyciu kroswalidacji."
   ]
  },
  {
   "cell_type": "code",
   "execution_count": 214,
   "metadata": {},
   "outputs": [],
   "source": [
    "\n",
    "X = X[:3000]\n",
    "y = y[:3000]\n",
    "\n",
    "\n",
    "\n",
    "enc_Target = ce.TargetEncoder().fit(X, y)\n",
    "enc_OneHot = ce.OneHotEncoder().fit(X, y)\n",
    "enc_LeaveOneOut = ce.LeaveOneOutEncoder().fit(X, y)\n",
    "enc_Hashing = ce.HashingEncoder().fit(X, y)\n",
    "\n",
    "training_Target = enc_Target.transform(X, y)\n",
    "training_OneHot = enc_OneHot.transform(X)\n",
    "training_LeaveOneOut = enc_LeaveOneOut.transform(X, y)\n",
    "training_Hashing = enc_Hashing.transform(X)\n",
    "\n",
    "X = X.drop([\"sex\",\"age_cat\",\"race\",\"c_charge_degree\", \"c_charge_desc\",\"bust_date\"], axis = 1)\n",
    "\n",
    "\n",
    "\n",
    "\n"
   ]
  },
  {
   "cell_type": "markdown",
   "metadata": {},
   "source": [
    "`LogisticRegression`"
   ]
  },
  {
   "cell_type": "code",
   "execution_count": 215,
   "metadata": {
    "scrolled": true
   },
   "outputs": [
    {
     "name": "stdout",
     "output_type": "stream",
     "text": [
      "Accuracy Target: 0.79 (+/- 0.03)\n",
      "Accuracy OneHot: 0.73 (+/- 0.04)\n",
      "Accuracy LeaveOneOut: 0.74 (+/- 0.03)\n",
      "Accuracy Hashing: 0.74 (+/- 0.03)\n",
      "Accuracy Without Variables: 0.74 (+/- 0.03)\n"
     ]
    }
   ],
   "source": [
    "np.random.seed(1)\n",
    "from sklearn.model_selection import cross_val_score\n",
    "clf = LogisticRegression()\n",
    "scores = cross_val_score(clf, training_Target, y, cv=5)\n",
    "print(\"Accuracy Target: %0.2f (+/- %0.2f)\" % (scores.mean(), scores.std() * 2))\n",
    "\n",
    "clf = LogisticRegression()\n",
    "scores = cross_val_score(clf, training_OneHot, y, cv=5)\n",
    "print(\"Accuracy OneHot: %0.2f (+/- %0.2f)\" % (scores.mean(), scores.std() * 2))\n",
    "\n",
    "clf = LogisticRegression()\n",
    "scores = cross_val_score(clf, training_LeaveOneOut, y, cv=5)\n",
    "print(\"Accuracy LeaveOneOut: %0.2f (+/- %0.2f)\" % (scores.mean(), scores.std() * 2))\n",
    "\n",
    "clf = LogisticRegression()\n",
    "scores = cross_val_score(clf, training_Hashing, y, cv=5)\n",
    "print(\"Accuracy Hashing: %0.2f (+/- %0.2f)\" % (scores.mean(), scores.std() * 2))\n",
    "\n",
    "clf = LogisticRegression()\n",
    "scores = cross_val_score(clf, X, y, cv=5)\n",
    "print(\"Accuracy Without Variables: %0.2f (+/- %0.2f)\" % (scores.mean(), scores.std() * 2))"
   ]
  },
  {
   "cell_type": "markdown",
   "metadata": {},
   "source": [
    "`SVC`"
   ]
  },
  {
   "cell_type": "code",
   "execution_count": 216,
   "metadata": {
    "scrolled": false
   },
   "outputs": [
    {
     "name": "stdout",
     "output_type": "stream",
     "text": [
      "Accuracy Target: 0.66 (+/- 0.00)\n",
      "Accuracy OneHot: 0.61 (+/- 0.09)\n",
      "Accuracy LeaveOneOut: 0.66 (+/- 0.00)\n",
      "Accuracy Hashing: 0.66 (+/- 0.00)\n",
      "Accuracy Without Variables: 0.66 (+/- 0.00)\n"
     ]
    }
   ],
   "source": [
    "np.random.seed(1)\n",
    "from sklearn.model_selection import cross_val_score\n",
    "clf = SVC()\n",
    "scores = cross_val_score(clf, training_Target, y, cv=5)\n",
    "print(\"Accuracy Target: %0.2f (+/- %0.2f)\" % (scores.mean(), scores.std() * 2))\n",
    "\n",
    "clf = SVC()\n",
    "scores = cross_val_score(clf, training_OneHot, y, cv=5)\n",
    "print(\"Accuracy OneHot: %0.2f (+/- %0.2f)\" % (scores.mean(), scores.std() * 2))\n",
    "\n",
    "clf = SVC()\n",
    "scores = cross_val_score(clf, training_LeaveOneOut, y, cv=5)\n",
    "print(\"Accuracy LeaveOneOut: %0.2f (+/- %0.2f)\" % (scores.mean(), scores.std() * 2))\n",
    "\n",
    "clf = SVC()\n",
    "scores = cross_val_score(clf, training_Hashing, y, cv=5)\n",
    "print(\"Accuracy Hashing: %0.2f (+/- %0.2f)\" % (scores.mean(), scores.std() * 2))\n",
    "\n",
    "clf = SVC()\n",
    "scores = cross_val_score(clf, X, y, cv=5)\n",
    "print(\"Accuracy Without Variables: %0.2f (+/- %0.2f)\" % (scores.mean(), scores.std() * 2))"
   ]
  },
  {
   "cell_type": "markdown",
   "metadata": {},
   "source": [
    "`RandomForestClassifier`"
   ]
  },
  {
   "cell_type": "code",
   "execution_count": 217,
   "metadata": {
    "scrolled": true
   },
   "outputs": [
    {
     "name": "stdout",
     "output_type": "stream",
     "text": [
      "Accuracy Target: 0.77 (+/- 0.03)\n",
      "Accuracy OneHot: 0.70 (+/- 0.04)\n",
      "Accuracy LeaveOneOut: 1.00 (+/- 0.00)\n",
      "Accuracy Hashing: 0.71 (+/- 0.06)\n",
      "Accuracy Without Variables: 0.71 (+/- 0.06)\n"
     ]
    }
   ],
   "source": [
    "np.random.seed(1)\n",
    "from sklearn.model_selection import cross_val_score\n",
    "clf = RandomForestClassifier()\n",
    "scores = cross_val_score(clf, training_Target, y, cv=5)\n",
    "print(\"Accuracy Target: %0.2f (+/- %0.2f)\" % (scores.mean(), scores.std() * 2))\n",
    "\n",
    "clf = RandomForestClassifier()\n",
    "scores = cross_val_score(clf, training_OneHot, y, cv=5)\n",
    "print(\"Accuracy OneHot: %0.2f (+/- %0.2f)\" % (scores.mean(), scores.std() * 2))\n",
    "\n",
    "clf = RandomForestClassifier()\n",
    "scores = cross_val_score(clf, training_LeaveOneOut, y, cv=5)\n",
    "print(\"Accuracy LeaveOneOut: %0.2f (+/- %0.2f)\" % (scores.mean(), scores.std() * 2))\n",
    "\n",
    "clf = RandomForestClassifier()\n",
    "scores = cross_val_score(clf, training_Hashing, y, cv=5)\n",
    "print(\"Accuracy Hashing: %0.2f (+/- %0.2f)\" % (scores.mean(), scores.std() * 2))\n",
    "\n",
    "clf = RandomForestClassifier()\n",
    "scores = cross_val_score(clf, X, y, cv=5)\n",
    "print(\"Accuracy Without Variables: %0.2f (+/- %0.2f)\" % (scores.mean(), scores.std() * 2))"
   ]
  },
  {
   "cell_type": "markdown",
   "metadata": {},
   "source": [
    "`AdaBoostClassifier`"
   ]
  },
  {
   "cell_type": "code",
   "execution_count": 220,
   "metadata": {
    "scrolled": true
   },
   "outputs": [
    {
     "name": "stdout",
     "output_type": "stream",
     "text": [
      "Accuracy Target: 0.70 (+/- 0.20)\n",
      "Accuracy OneHot: 0.64 (+/- 0.30)\n",
      "Accuracy LeaveOneOut: 1.00 (+/- 0.00)\n",
      "Accuracy Hashing: 0.62 (+/- 0.28)\n",
      "Accuracy Without Variables: 0.64 (+/- 0.29)\n"
     ]
    }
   ],
   "source": [
    "np.random.seed(1)\n",
    "from sklearn.model_selection import cross_val_score\n",
    "clf = AdaBoostClassifier()\n",
    "scores = cross_val_score(clf, training_Target, y, cv=5)\n",
    "print(\"Accuracy Target: %0.2f (+/- %0.2f)\" % (scores.mean(), scores.std() * 2))\n",
    "\n",
    "clf = AdaBoostClassifier()\n",
    "scores = cross_val_score(clf, training_OneHot, y, cv=5)\n",
    "print(\"Accuracy OneHot: %0.2f (+/- %0.2f)\" % (scores.mean(), scores.std() * 2))\n",
    "\n",
    "clf = AdaBoostClassifier()\n",
    "scores = cross_val_score(clf, training_LeaveOneOut, y, cv=5)\n",
    "print(\"Accuracy LeaveOneOut: %0.2f (+/- %0.2f)\" % (scores.mean(), scores.std() * 2))\n",
    "\n",
    "clf = AdaBoostClassifier()\n",
    "scores = cross_val_score(clf, training_Hashing, y, cv=5)\n",
    "print(\"Accuracy Hashing: %0.2f (+/- %0.2f)\" % (scores.mean(), scores.std() * 2))\n",
    "\n",
    "clf = AdaBoostClassifier()\n",
    "scores = cross_val_score(clf, X, y, cv=5)\n",
    "print(\"Accuracy Without Variables: %0.2f (+/- %0.2f)\" % (scores.mean(), scores.std() * 2))"
   ]
  },
  {
   "cell_type": "markdown",
   "metadata": {},
   "source": [
    "`GaussianProcessClassifier`"
   ]
  },
  {
   "cell_type": "code",
   "execution_count": 221,
   "metadata": {
    "scrolled": false
   },
   "outputs": [
    {
     "name": "stdout",
     "output_type": "stream",
     "text": [
      "Accuracy Target: 0.61 (+/- 0.09)\n",
      "Accuracy OneHot: 0.61 (+/- 0.09)\n",
      "Accuracy LeaveOneOut: 0.61 (+/- 0.09)\n",
      "Accuracy Hashing: 0.61 (+/- 0.09)\n",
      "Accuracy Without Variables: 0.61 (+/- 0.09)\n"
     ]
    }
   ],
   "source": [
    "np.random.seed(1)\n",
    "from sklearn.model_selection import cross_val_score\n",
    "clf = GaussianProcessClassifier()\n",
    "scores = cross_val_score(clf, training_Target, y, cv=5)\n",
    "print(\"Accuracy Target: %0.2f (+/- %0.2f)\" % (scores.mean(), scores.std() * 2))\n",
    "\n",
    "clf = GaussianProcessClassifier()\n",
    "scores = cross_val_score(clf, training_OneHot, y, cv=5)\n",
    "print(\"Accuracy OneHot: %0.2f (+/- %0.2f)\" % (scores.mean(), scores.std() * 2))\n",
    "\n",
    "clf = GaussianProcessClassifier()\n",
    "scores = cross_val_score(clf, training_LeaveOneOut, y, cv=5)\n",
    "print(\"Accuracy LeaveOneOut: %0.2f (+/- %0.2f)\" % (scores.mean(), scores.std() * 2))\n",
    "\n",
    "clf = GaussianProcessClassifier()\n",
    "scores = cross_val_score(clf, training_Hashing, y, cv=5)\n",
    "print(\"Accuracy Hashing: %0.2f (+/- %0.2f)\" % (scores.mean(), scores.std() * 2))\n",
    "\n",
    "clf = GaussianProcessClassifier()\n",
    "scores = cross_val_score(clf, X, y, cv=5)\n",
    "print(\"Accuracy Without Variables: %0.2f (+/- %0.2f)\" % (scores.mean(), scores.std() * 2))"
   ]
  },
  {
   "cell_type": "markdown",
   "metadata": {},
   "source": [
    "# Wnioski"
   ]
  },
  {
   "cell_type": "markdown",
   "metadata": {},
   "source": [
    "Tutaj w pierwszym klasyfikatorze widać znaczącą przewagę `Target` encodingu nawet nad `LeaveOneOut` encodingiem co jest dość zaskakujące, gdyż są to bardzo podobne kodowania. Pózniej kilka razy z rzędu `LeaveOneOut` osiąga zaskakujące `1.00 Accuracy`, co niestety raczej jest spowodowane overfittingiem kodowania, o którym wspominałem wcześniej. W celu pozbycia się aż tak dużego narzuty należałoby dopasowywać kodowanie tylko na danych uczących, co robiłem na początku raportu. Proste kodowanie poradziły sobie podobnie do ramki danych bez zmiennych. (a `One Hot` zwykle działał nawet gorzej od wyrzucenia zmiennych) Prawdopodobnie dla lepszej oceny powinno się przetestować te kodowania na różnych ramkach danych, z różnymi klasyfikatorami i z różnymi miarami (oraz dopasowywac kodowanie tylko na zbiorze uczący, o czym wspominałem wcześniej), wtedy możnaby było wyciągać bardziej konkretne wnioski. Skuteczność kodowania zależy od znaczenia kodowanych zmiennych kategorycznych i czasami nawet lepiej jest po prostu usnunąć małow wnoszące zmienne. Jeśli chodzi o wystąpienie nowych poziomów zmiennej w danych testowych / nowych danych, to część kodowań lub pakiet `vtreat` z `R`-a robią to automatycznie przy transformacji danych. Może to być zrobione przez przedstawianie nowych zmiennych jako 'no level', czyli tworzenie dodatkowej wartości dla wszystkich nowych leveli. Inną opcją jest ważenie nowych poziomów proporcjonalnie do tych już znanych lub traktowanie nowych poziomów jako niepewności wśród rzadkich poziomów."
   ]
  }
 ],
 "metadata": {
  "kernelspec": {
   "display_name": "Python 3",
   "language": "python",
   "name": "python3"
  },
  "language_info": {
   "codemirror_mode": {
    "name": "ipython",
    "version": 3
   },
   "file_extension": ".py",
   "mimetype": "text/x-python",
   "name": "python",
   "nbconvert_exporter": "python",
   "pygments_lexer": "ipython3",
   "version": "3.7.1"
  }
 },
 "nbformat": 4,
 "nbformat_minor": 2
}
